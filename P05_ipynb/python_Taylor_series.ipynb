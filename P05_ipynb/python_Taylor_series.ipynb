{
 "cells": [
  {
   "cell_type": "code",
   "execution_count": 1,
   "metadata": {},
   "outputs": [
    {
     "name": "stdout",
     "output_type": "stream",
     "text": [
      "e^x = 1 + x + x^2/2! + x^3/3! + x^4/4! + ...\n",
      "Enter the value of x:\n",
      "2\n",
      "Enter the value of n:\n",
      "20\n",
      "Value of taylor series for particular x and n is:\n",
      " 7.3890560989301735\n",
      "Value of function for particular x is:\n",
      " 7.38905609893065\n",
      "Value of penultimate term:\n",
      " 4.3099804121821765e-12\n",
      "Value of last term:\n",
      " 4.3099804121821766e-13\n"
     ]
    },
    {
     "data": {
      "text/plain": [
       "<Figure size 640x480 with 1 Axes>"
      ]
     },
     "metadata": {},
     "output_type": "display_data"
    }
   ],
   "source": [
    "# python_Taylor_series\n",
    "import math\n",
    "import numpy as np\n",
    "import matplotlib.pyplot as plt\n",
    "\n",
    "# Expression of e to the power of x in taylor series\n",
    "print('e^x = 1 + x + x^2/2! + x^3/3! + x^4/4! + ...')\n",
    "\n",
    "\n",
    "def func_e_to_x(x, n):\n",
    "    e_to_x = 0\n",
    "    for i in range(n):\n",
    "        e_to_x += x ** i / math.factorial(i)\n",
    "    return e_to_x\n",
    "\n",
    "\n",
    "x = int(input('Enter the value of x:\\n'))  # range of x: (-inf,inf)\n",
    "n = int(input('Enter the value of n:\\n'))  # range of n: (0,inf)\n",
    "tsout = func_e_to_x(x, n)\n",
    "print('Value of taylor series for particular x and n is:\\n', tsout)\n",
    "fout = math.exp(x)\n",
    "print('Value of function for particular x is:\\n', fout)\n",
    "\n",
    "# Penultimate term\n",
    "pt = x ** (n - 1) / math.factorial(n - 1)\n",
    "print('Value of penultimate term:\\n', pt)\n",
    "\n",
    "# Last term\n",
    "lt = x ** n / math.factorial(n)\n",
    "print('Value of last term:\\n', lt)\n",
    "\n",
    "# Graph\n",
    "a = np.linspace(-10, 10, 100)\n",
    "fig, ax = plt.subplots()\n",
    "ax.plot(a, func_e_to_x(a, n), label='taylor series')\n",
    "ax.plot(a, np.exp(a), label='function')\n",
    "plt.show()"
   ]
  },
  {
   "cell_type": "code",
   "execution_count": null,
   "metadata": {},
   "outputs": [],
   "source": []
  },
  {
   "cell_type": "code",
   "execution_count": null,
   "metadata": {},
   "outputs": [],
   "source": []
  }
 ],
 "metadata": {
  "kernelspec": {
   "display_name": "Python 3",
   "language": "python",
   "name": "python3"
  },
  "language_info": {
   "codemirror_mode": {
    "name": "ipython",
    "version": 3
   },
   "file_extension": ".py",
   "mimetype": "text/x-python",
   "name": "python",
   "nbconvert_exporter": "python",
   "pygments_lexer": "ipython3",
   "version": "3.7.4"
  }
 },
 "nbformat": 4,
 "nbformat_minor": 2
}
